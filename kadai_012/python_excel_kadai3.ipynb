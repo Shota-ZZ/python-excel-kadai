{
  "nbformat": 4,
  "nbformat_minor": 0,
  "metadata": {
    "colab": {
      "provenance": []
    },
    "kernelspec": {
      "name": "python3",
      "display_name": "Python 3"
    },
    "language_info": {
      "name": "python"
    }
  },
  "cells": [
    {
      "cell_type": "code",
      "execution_count": 1,
      "metadata": {
        "colab": {
          "base_uri": "https://localhost:8080/",
          "height": 1000
        },
        "collapsed": true,
        "id": "QCXcE5jiONpk",
        "outputId": "f3fae447-bc3b-4901-d721-b038e7e26930"
      },
      "outputs": [
        {
          "output_type": "stream",
          "name": "stdout",
          "text": [
            "Collecting numpy==1.24.4\n",
            "  Downloading numpy-1.24.4-cp311-cp311-manylinux_2_17_x86_64.manylinux2014_x86_64.whl.metadata (5.6 kB)\n",
            "Collecting pandas==1.5.3\n",
            "  Downloading pandas-1.5.3-cp311-cp311-manylinux_2_17_x86_64.manylinux2014_x86_64.whl.metadata (11 kB)\n",
            "Collecting openpyxl==3.0.10\n",
            "  Downloading openpyxl-3.0.10-py2.py3-none-any.whl.metadata (2.4 kB)\n",
            "Requirement already satisfied: python-dateutil>=2.8.1 in /usr/local/lib/python3.11/dist-packages (from pandas==1.5.3) (2.9.0.post0)\n",
            "Requirement already satisfied: pytz>=2020.1 in /usr/local/lib/python3.11/dist-packages (from pandas==1.5.3) (2025.2)\n",
            "Requirement already satisfied: et-xmlfile in /usr/local/lib/python3.11/dist-packages (from openpyxl==3.0.10) (2.0.0)\n",
            "Requirement already satisfied: six>=1.5 in /usr/local/lib/python3.11/dist-packages (from python-dateutil>=2.8.1->pandas==1.5.3) (1.17.0)\n",
            "Downloading numpy-1.24.4-cp311-cp311-manylinux_2_17_x86_64.manylinux2014_x86_64.whl (17.3 MB)\n",
            "\u001b[2K   \u001b[90m━━━━━━━━━━━━━━━━━━━━━━━━━━━━━━━━━━━━━━━━\u001b[0m \u001b[32m17.3/17.3 MB\u001b[0m \u001b[31m32.8 MB/s\u001b[0m eta \u001b[36m0:00:00\u001b[0m\n",
            "\u001b[?25hDownloading pandas-1.5.3-cp311-cp311-manylinux_2_17_x86_64.manylinux2014_x86_64.whl (12.0 MB)\n",
            "\u001b[2K   \u001b[90m━━━━━━━━━━━━━━━━━━━━━━━━━━━━━━━━━━━━━━━━\u001b[0m \u001b[32m12.0/12.0 MB\u001b[0m \u001b[31m46.3 MB/s\u001b[0m eta \u001b[36m0:00:00\u001b[0m\n",
            "\u001b[?25hDownloading openpyxl-3.0.10-py2.py3-none-any.whl (242 kB)\n",
            "\u001b[2K   \u001b[90m━━━━━━━━━━━━━━━━━━━━━━━━━━━━━━━━━━━━━━━━\u001b[0m \u001b[32m242.1/242.1 kB\u001b[0m \u001b[31m16.1 MB/s\u001b[0m eta \u001b[36m0:00:00\u001b[0m\n",
            "\u001b[?25hInstalling collected packages: openpyxl, numpy, pandas\n",
            "  Attempting uninstall: openpyxl\n",
            "    Found existing installation: openpyxl 3.1.5\n",
            "    Uninstalling openpyxl-3.1.5:\n",
            "      Successfully uninstalled openpyxl-3.1.5\n",
            "  Attempting uninstall: numpy\n",
            "    Found existing installation: numpy 2.0.2\n",
            "    Uninstalling numpy-2.0.2:\n",
            "      Successfully uninstalled numpy-2.0.2\n",
            "  Attempting uninstall: pandas\n",
            "    Found existing installation: pandas 2.2.2\n",
            "    Uninstalling pandas-2.2.2:\n",
            "      Successfully uninstalled pandas-2.2.2\n",
            "\u001b[31mERROR: pip's dependency resolver does not currently take into account all the packages that are installed. This behaviour is the source of the following dependency conflicts.\n",
            "google-colab 1.0.0 requires pandas==2.2.2, but you have pandas 1.5.3 which is incompatible.\n",
            "treescope 0.1.10 requires numpy>=1.25.2, but you have numpy 1.24.4 which is incompatible.\n",
            "geopandas 1.1.1 requires pandas>=2.0.0, but you have pandas 1.5.3 which is incompatible.\n",
            "tensorflow 2.19.0 requires numpy<2.2.0,>=1.26.0, but you have numpy 1.24.4 which is incompatible.\n",
            "mizani 0.13.5 requires pandas>=2.2.0, but you have pandas 1.5.3 which is incompatible.\n",
            "pymc 5.25.1 requires numpy>=1.25.0, but you have numpy 1.24.4 which is incompatible.\n",
            "blosc2 3.6.1 requires numpy>=1.26, but you have numpy 1.24.4 which is incompatible.\n",
            "scipy 1.16.1 requires numpy<2.6,>=1.25.2, but you have numpy 1.24.4 which is incompatible.\n",
            "xarray 2025.7.1 requires numpy>=1.26, but you have numpy 1.24.4 which is incompatible.\n",
            "xarray 2025.7.1 requires pandas>=2.2, but you have pandas 1.5.3 which is incompatible.\n",
            "dask-cudf-cu12 25.6.0 requires pandas<2.2.4dev0,>=2.0, but you have pandas 1.5.3 which is incompatible.\n",
            "arviz 0.22.0 requires numpy>=1.26.0, but you have numpy 1.24.4 which is incompatible.\n",
            "arviz 0.22.0 requires pandas>=2.1.0, but you have pandas 1.5.3 which is incompatible.\n",
            "opencv-python 4.12.0.88 requires numpy<2.3.0,>=2; python_version >= \"3.9\", but you have numpy 1.24.4 which is incompatible.\n",
            "plotnine 0.14.5 requires pandas>=2.2.0, but you have pandas 1.5.3 which is incompatible.\n",
            "contourpy 1.3.3 requires numpy>=1.25, but you have numpy 1.24.4 which is incompatible.\n",
            "cudf-cu12 25.6.0 requires pandas<2.2.4dev0,>=2.0, but you have pandas 1.5.3 which is incompatible.\n",
            "opencv-python-headless 4.12.0.88 requires numpy<2.3.0,>=2; python_version >= \"3.9\", but you have numpy 1.24.4 which is incompatible.\n",
            "jax 0.5.3 requires numpy>=1.25, but you have numpy 1.24.4 which is incompatible.\n",
            "pywavelets 1.9.0 requires numpy<3,>=1.25, but you have numpy 1.24.4 which is incompatible.\n",
            "jaxlib 0.5.3 requires numpy>=1.25, but you have numpy 1.24.4 which is incompatible.\n",
            "opencv-contrib-python 4.12.0.88 requires numpy<2.3.0,>=2; python_version >= \"3.9\", but you have numpy 1.24.4 which is incompatible.\n",
            "xarray-einstats 0.9.1 requires numpy>=1.25, but you have numpy 1.24.4 which is incompatible.\n",
            "thinc 8.3.6 requires numpy<3.0.0,>=2.0.0, but you have numpy 1.24.4 which is incompatible.\u001b[0m\u001b[31m\n",
            "\u001b[0mSuccessfully installed numpy-1.24.4 openpyxl-3.0.10 pandas-1.5.3\n"
          ]
        },
        {
          "output_type": "display_data",
          "data": {
            "application/vnd.colab-display-data+json": {
              "pip_warning": {
                "packages": [
                  "numpy"
                ]
              },
              "id": "681ea30710ab4a62a8035dd1e5898672"
            }
          },
          "metadata": {}
        }
      ],
      "source": [
        "!pip install numpy==1.24.4 pandas==1.5.3 openpyxl==3.0.10"
      ]
    },
    {
      "cell_type": "code",
      "source": [
        "import pandas as pd\n",
        "from openpyxl import Workbook\n",
        "from openpyxl.styles import PatternFill, Border, Side, Font\n",
        "from openpyxl.utils.dataframe import dataframe_to_rows\n",
        "import os\n",
        "\n",
        "def process_sales_data():\n",
        "    \"\"\"\n",
        "    2022年と2023年の年間売上データを連結し、\n",
        "    商品と売上年ごとに集計してExcelファイルに出力します。\n",
        "    \"\"\"\n",
        "    try:\n",
        "        # 一時的な出力ディレクトリを作成する処理を削除しました。\n",
        "\n",
        "        # 2022年と2023年の売上データをExcelファイルから読み込みます\n",
        "        df_2022 = pd.read_excel('2022_年間売上表.xlsx')\n",
        "        df_2023 = pd.read_excel('2023_年間売上表.xlsx')\n",
        "\n",
        "        # データを連結します\n",
        "        df_combined = pd.concat([df_2022, df_2023])\n",
        "\n",
        "        # 商品と売上年ごとにグループ化して合計金額を計算します\n",
        "        df_grouped = df_combined.groupby(['商品', '売上年'])['金額（千円）'].sum().reset_index()\n",
        "\n",
        "        # 新しいExcelワークブックを作成します\n",
        "        wb = Workbook()\n",
        "        ws = wb.active # アクティブなシートを取得します\n",
        "        ws.title = \"売上集計\" # シート名を日本語に設定\n",
        "\n",
        "        # DataFrameの内容をシートに書き込みます (ヘッダーを含む)\n",
        "        for r_idx, row in enumerate(dataframe_to_rows(df_grouped, index=False, header=True)):\n",
        "            ws.append(row)\n",
        "\n",
        "        # 1行目 (ヘッダー行) のタイトルの色を薄いグレーに設定します\n",
        "        header_fill = PatternFill(start_color='F2F2F2', end_color='F2F2F2', fill_type='solid')\n",
        "\n",
        "        # 罫線スタイルを定義します\n",
        "        thin_border = Border(left=Side(style='thin'),\n",
        "                             right=Side(style='thin'),\n",
        "                             top=Side(style='thin'),\n",
        "                             bottom=Side(style='thin'))\n",
        "\n",
        "        # 太字フォントを定義します\n",
        "        bold_font = Font(bold=True)\n",
        "\n",
        "        # 1行目 (ヘッダー行) のすべてのセルに色、罫線、太字を適用します\n",
        "        for cell in ws[1]:\n",
        "            cell.fill = header_fill\n",
        "            cell.border = thin_border\n",
        "            cell.font = bold_font # ヘッダーの文字を太字に設定\n",
        "\n",
        "        # 出力ファイルパスを設定します（現在のディレクトリに直接保存）\n",
        "        output_file_path = \"売上集計表.xlsx\"\n",
        "\n",
        "        # Excelファイルを保存します\n",
        "        wb.save(output_file_path)\n",
        "\n",
        "        print(f\"「売上集計表.xlsx」が正常に作成されました。出力先: {output_file_path} (現在のディレクトリ)\")\n",
        "\n",
        "    except FileNotFoundError as e:\n",
        "        print(f\"エラー: 指定されたファイルが見つかりませんでした。詳細: {e}\")\n",
        "        print(\"ファイル名が正しいか、スクリプトと同じディレクトリに存在するか確認してください。\", e)\n",
        "    except Exception as e:\n",
        "        print(f\"処理中にエラーが発生しました: {e}\")\n",
        "\n",
        "# スクリプトを実行します\n",
        "process_sales_data()\n"
      ],
      "metadata": {
        "colab": {
          "base_uri": "https://localhost:8080/"
        },
        "id": "_HNy3K8nq9tY",
        "outputId": "e185c1fc-e9c2-4f5e-c6a1-fdcb22cbb343"
      },
      "execution_count": 6,
      "outputs": [
        {
          "output_type": "stream",
          "name": "stdout",
          "text": [
            "「売上集計表.xlsx」が正常に作成されました。出力先: 売上集計表.xlsx (現在のディレクトリ)\n"
          ]
        }
      ]
    }
  ]
}