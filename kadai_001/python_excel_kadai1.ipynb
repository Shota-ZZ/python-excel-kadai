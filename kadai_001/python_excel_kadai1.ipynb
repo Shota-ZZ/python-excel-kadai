{
  "nbformat": 4,
  "nbformat_minor": 0,
  "metadata": {
    "colab": {
      "provenance": []
    },
    "kernelspec": {
      "name": "python3",
      "display_name": "Python 3"
    },
    "language_info": {
      "name": "python"
    }
  },
  "cells": [
    {
      "cell_type": "code",
      "source": [
        "!pip install numpy==1.24.4 pandas==1.5.3 openpyxl==3.0.10"
      ],
      "metadata": {
        "colab": {
          "base_uri": "https://localhost:8080/",
          "height": 1000
        },
        "collapsed": true,
        "id": "yJXWCfyOogLq",
        "outputId": "926a859f-73ec-48c6-8580-16d9eea64756"
      },
      "execution_count": 1,
      "outputs": [
        {
          "output_type": "stream",
          "name": "stdout",
          "text": [
            "Collecting numpy==1.24.4\n",
            "  Downloading numpy-1.24.4-cp311-cp311-manylinux_2_17_x86_64.manylinux2014_x86_64.whl.metadata (5.6 kB)\n",
            "Collecting pandas==1.5.3\n",
            "  Downloading pandas-1.5.3-cp311-cp311-manylinux_2_17_x86_64.manylinux2014_x86_64.whl.metadata (11 kB)\n",
            "Collecting openpyxl==3.0.10\n",
            "  Downloading openpyxl-3.0.10-py2.py3-none-any.whl.metadata (2.4 kB)\n",
            "Requirement already satisfied: python-dateutil>=2.8.1 in /usr/local/lib/python3.11/dist-packages (from pandas==1.5.3) (2.9.0.post0)\n",
            "Requirement already satisfied: pytz>=2020.1 in /usr/local/lib/python3.11/dist-packages (from pandas==1.5.3) (2025.2)\n",
            "Requirement already satisfied: et-xmlfile in /usr/local/lib/python3.11/dist-packages (from openpyxl==3.0.10) (2.0.0)\n",
            "Requirement already satisfied: six>=1.5 in /usr/local/lib/python3.11/dist-packages (from python-dateutil>=2.8.1->pandas==1.5.3) (1.17.0)\n",
            "Downloading numpy-1.24.4-cp311-cp311-manylinux_2_17_x86_64.manylinux2014_x86_64.whl (17.3 MB)\n",
            "\u001b[2K   \u001b[90m━━━━━━━━━━━━━━━━━━━━━━━━━━━━━━━━━━━━━━━━\u001b[0m \u001b[32m17.3/17.3 MB\u001b[0m \u001b[31m63.0 MB/s\u001b[0m eta \u001b[36m0:00:00\u001b[0m\n",
            "\u001b[?25hDownloading pandas-1.5.3-cp311-cp311-manylinux_2_17_x86_64.manylinux2014_x86_64.whl (12.0 MB)\n",
            "\u001b[2K   \u001b[90m━━━━━━━━━━━━━━━━━━━━━━━━━━━━━━━━━━━━━━━━\u001b[0m \u001b[32m12.0/12.0 MB\u001b[0m \u001b[31m70.8 MB/s\u001b[0m eta \u001b[36m0:00:00\u001b[0m\n",
            "\u001b[?25hDownloading openpyxl-3.0.10-py2.py3-none-any.whl (242 kB)\n",
            "\u001b[2K   \u001b[90m━━━━━━━━━━━━━━━━━━━━━━━━━━━━━━━━━━━━━━━━\u001b[0m \u001b[32m242.1/242.1 kB\u001b[0m \u001b[31m17.4 MB/s\u001b[0m eta \u001b[36m0:00:00\u001b[0m\n",
            "\u001b[?25hInstalling collected packages: openpyxl, numpy, pandas\n",
            "  Attempting uninstall: openpyxl\n",
            "    Found existing installation: openpyxl 3.1.5\n",
            "    Uninstalling openpyxl-3.1.5:\n",
            "      Successfully uninstalled openpyxl-3.1.5\n",
            "  Attempting uninstall: numpy\n",
            "    Found existing installation: numpy 2.0.2\n",
            "    Uninstalling numpy-2.0.2:\n",
            "      Successfully uninstalled numpy-2.0.2\n",
            "  Attempting uninstall: pandas\n",
            "    Found existing installation: pandas 2.2.2\n",
            "    Uninstalling pandas-2.2.2:\n",
            "      Successfully uninstalled pandas-2.2.2\n",
            "\u001b[31mERROR: pip's dependency resolver does not currently take into account all the packages that are installed. This behaviour is the source of the following dependency conflicts.\n",
            "google-colab 1.0.0 requires pandas==2.2.2, but you have pandas 1.5.3 which is incompatible.\n",
            "pywavelets 1.9.0 requires numpy<3,>=1.25, but you have numpy 1.24.4 which is incompatible.\n",
            "mizani 0.13.5 requires pandas>=2.2.0, but you have pandas 1.5.3 which is incompatible.\n",
            "xarray 2025.7.1 requires numpy>=1.26, but you have numpy 1.24.4 which is incompatible.\n",
            "xarray 2025.7.1 requires pandas>=2.2, but you have pandas 1.5.3 which is incompatible.\n",
            "xarray-einstats 0.9.1 requires numpy>=1.25, but you have numpy 1.24.4 which is incompatible.\n",
            "plotnine 0.14.5 requires pandas>=2.2.0, but you have pandas 1.5.3 which is incompatible.\n",
            "opencv-python 4.12.0.88 requires numpy<2.3.0,>=2; python_version >= \"3.9\", but you have numpy 1.24.4 which is incompatible.\n",
            "jax 0.5.3 requires numpy>=1.25, but you have numpy 1.24.4 which is incompatible.\n",
            "geopandas 1.1.1 requires pandas>=2.0.0, but you have pandas 1.5.3 which is incompatible.\n",
            "tensorflow 2.19.0 requires numpy<2.2.0,>=1.26.0, but you have numpy 1.24.4 which is incompatible.\n",
            "jaxlib 0.5.3 requires numpy>=1.25, but you have numpy 1.24.4 which is incompatible.\n",
            "scipy 1.16.1 requires numpy<2.6,>=1.25.2, but you have numpy 1.24.4 which is incompatible.\n",
            "contourpy 1.3.3 requires numpy>=1.25, but you have numpy 1.24.4 which is incompatible.\n",
            "blosc2 3.6.1 requires numpy>=1.26, but you have numpy 1.24.4 which is incompatible.\n",
            "opencv-contrib-python 4.12.0.88 requires numpy<2.3.0,>=2; python_version >= \"3.9\", but you have numpy 1.24.4 which is incompatible.\n",
            "pymc 5.25.1 requires numpy>=1.25.0, but you have numpy 1.24.4 which is incompatible.\n",
            "dask-cudf-cu12 25.6.0 requires pandas<2.2.4dev0,>=2.0, but you have pandas 1.5.3 which is incompatible.\n",
            "treescope 0.1.9 requires numpy>=1.25.2, but you have numpy 1.24.4 which is incompatible.\n",
            "opencv-python-headless 4.12.0.88 requires numpy<2.3.0,>=2; python_version >= \"3.9\", but you have numpy 1.24.4 which is incompatible.\n",
            "thinc 8.3.6 requires numpy<3.0.0,>=2.0.0, but you have numpy 1.24.4 which is incompatible.\n",
            "arviz 0.22.0 requires numpy>=1.26.0, but you have numpy 1.24.4 which is incompatible.\n",
            "arviz 0.22.0 requires pandas>=2.1.0, but you have pandas 1.5.3 which is incompatible.\n",
            "cudf-cu12 25.6.0 requires pandas<2.2.4dev0,>=2.0, but you have pandas 1.5.3 which is incompatible.\u001b[0m\u001b[31m\n",
            "\u001b[0mSuccessfully installed numpy-1.24.4 openpyxl-3.0.10 pandas-1.5.3\n"
          ]
        },
        {
          "output_type": "display_data",
          "data": {
            "application/vnd.colab-display-data+json": {
              "pip_warning": {
                "packages": [
                  "numpy"
                ]
              },
              "id": "4f50468da7634965b00c28091fcb151e"
            }
          },
          "metadata": {}
        }
      ]
    },
    {
      "cell_type": "code",
      "source": [
        "import openpyxl\n",
        "\n",
        "# Create a new workbook for order details data\n",
        "wb_order_details = openpyxl.Workbook()\n",
        "ws_order_details = wb_order_details.active\n",
        "ws_order_details.title = \"受注明細\" # シート名を「受注明細」に変更\n",
        "\n",
        "# Add headers to the order details sheet\n",
        "ws_order_details['A1'] = '商品名'\n",
        "ws_order_details['B1'] = '単価'\n",
        "ws_order_details['C1'] = '数量' # 数量のヘッダーを追加\n",
        "\n",
        "# Add some sample product data with quantities\n",
        "# 商品名, 単価, 数量\n",
        "ws_order_details['A2'] = '商品A'\n",
        "ws_order_details['B2'] = 10000\n",
        "ws_order_details['C2'] = 2 # 数量を追加\n",
        "\n",
        "ws_order_details['A3'] = '商品B'\n",
        "ws_order_details['B3'] = 15000\n",
        "ws_order_details['C3'] = 1 # 数量を追加\n",
        "\n",
        "ws_order_details['A4'] = '商品C'\n",
        "ws_order_details['B4'] = 5000\n",
        "ws_order_details['C4'] = 3 # 数量を追加\n",
        "\n",
        "# Save the order details workbook\n",
        "wb_order_details.save(\"受注明細.xlsx\")\n",
        "print(\"受注明細.xlsx が作成されました。\")"
      ],
      "metadata": {
        "colab": {
          "base_uri": "https://localhost:8080/"
        },
        "id": "XNEL6GQ6r2XL",
        "outputId": "1b560c43-53a5-4a54-de76-d4c11c82dd4c"
      },
      "execution_count": 1,
      "outputs": [
        {
          "output_type": "stream",
          "name": "stdout",
          "text": [
            "受注明細.xlsx が作成されました。\n"
          ]
        }
      ]
    },
    {
      "cell_type": "code",
      "source": [
        "import openpyxl\n",
        "from datetime import date # datetimeモジュールからdateをインポート\n",
        "\n",
        "# --- Load Order Details Data ---\n",
        "# 受注明細.xlsx が存在するか確認し、読み込む\n",
        "try:\n",
        "    wb_order_details = openpyxl.load_workbook(\"受注明細.xlsx\", data_only=True)\n",
        "    ws_order_details = wb_order_details[\"受注明細\"]  # 実データのシート名に変更\n",
        "    ws_order_details = wb_order_details.active\n",
        "    order_items_from_file = [] # 受注明細から読み込んだ商品リスト\n",
        "    # A列(商品名), B列(単価), C列(数量)からデータを読み込む (ヘッダー行はスキップ)\n",
        "    for row in ws_order_details.iter_rows(min_row=2, values_only=True):\n",
        "        if row[0] is not None: # 商品名が空でない場合のみ処理\n",
        "            product_name = row[0]\n",
        "            unit_price = row[1]\n",
        "            quantity = row[2] # 数量をC列から読み込む\n",
        "            order_items_from_file.append({\n",
        "                'name': product_name,\n",
        "                'unit_price': unit_price,\n",
        "                'quantity': quantity\n",
        "            })\n",
        "except FileNotFoundError:\n",
        "    print(\"エラー: '受注明細.xlsx' が見つかりません。\")\n",
        "    print(\"先に受注明細作成スクリプトを実行してファイルを作成してください。\")\n",
        "    exit() # ファイルが見つからない場合は処理を終了\n",
        "\n",
        "# Create a new workbook and select the active worksheet for the invoice\n",
        "wb = openpyxl.Workbook()\n",
        "ws = wb.active\n",
        "\n",
        "# --- Header Section ---\n",
        "# Title: \"請求書\" (Invoice)\n",
        "ws['B2'] = '請求書'\n",
        "ws.merge_cells('B2:E2')\n",
        "ws['B2'].font = openpyxl.styles.Font(size=14, bold=True)\n",
        "\n",
        "# Company Information\n",
        "ws['B4'] = '株式会社ABC'\n",
        "ws['B5'] = '〒101-0022 東京都千代田区神田練塀町300'\n",
        "ws['B6'] = 'TEL: 03-1234-5678 FAX: 03-1234-5678'\n",
        "ws['B7'] = '担当者名: 鈴木一郎 様'\n",
        "\n",
        "# Invoice Details (No. and Date)\n",
        "ws['F4'] = 'No.'\n",
        "ws['G4'] = '0001'\n",
        "ws['F5'] = '日付'\n",
        "\n",
        "# Get the current date and format it as YYYY/MM/DD\n",
        "today = date.today()\n",
        "formatted_date = today.strftime(\"%Y/%m/%d\")\n",
        "ws['G5'] = formatted_date # Format the date as YYYY/MM/DD and assign to cell\n",
        "\n",
        "# --- Table Header ---\n",
        "ws['B10'] = '商品名'\n",
        "ws['C10'] = '数量'\n",
        "ws['D10'] = '単価'\n",
        "ws['E10'] = '金額'\n",
        "\n",
        "# Apply formatting to table headers\n",
        "header_cells = ['B10', 'C10', 'D10', 'E10']\n",
        "for cell in header_cells:\n",
        "    ws[cell].border = openpyxl.styles.Border(\n",
        "        left=openpyxl.styles.Side(style='thin'),\n",
        "        right=openpyxl.styles.Side(style='thin'),\n",
        "        top=openpyxl.styles.Side(style='thin'),\n",
        "        bottom=openpyxl.styles.Side(style='thin')\n",
        "    )\n",
        "\n",
        "# --- Table Data ---\n",
        "# 受注明細ファイルから読み込んだデータを使用して請求書の明細を生成\n",
        "start_row = 11 # 明細の開始行\n",
        "current_row = start_row\n",
        "for item in order_items_from_file:\n",
        "    product_name = item['name']\n",
        "    quantity = item['quantity']\n",
        "    unit_price = item['unit_price']\n",
        "\n",
        "    ws[f'B{current_row}'] = product_name\n",
        "    ws[f'C{current_row}'] = quantity\n",
        "    ws[f'D{current_row}'] = unit_price\n",
        "    # 数式で金額を計算 (C列の数量 * D列の単価)\n",
        "    ws[f'E{current_row}'] = f'={ws.cell(row=current_row, column=3).coordinate}*{ws.cell(row=current_row, column=4).coordinate}'\n",
        "\n",
        "    current_row += 1\n",
        "\n",
        "# --- Summary Section ---\n",
        "# 合計、消費税、税込合計の行を動的に設定\n",
        "# 明細の最終行の次の行から合計を開始\n",
        "total_row = current_row # 明細の最終行が合計行になる\n",
        "ws[f'D{total_row}'] = '合計'\n",
        "# 明細の金額列の範囲を動的に設定\n",
        "ws[f'E{total_row}'] = f'=SUM(E{start_row}:E{current_row-1})'\n",
        "ws[f'D{total_row}'].border = openpyxl.styles.Border(bottom=openpyxl.styles.Side(style='thin'))\n",
        "ws[f'E{total_row}'].border = openpyxl.styles.Border(bottom=openpyxl.styles.Side(style='thin'))\n",
        "\n",
        "# 消費税と税込合計\n",
        "ws[f'D{total_row + 2}'] = '合計'\n",
        "ws[f'E{total_row + 2}'] = f'=SUM(E{start_row}:E{current_row-1})' # 上の合計と同じ数式\n",
        "ws[f'D{total_row + 3}'] = '消費税'\n",
        "ws[f'E{total_row + 3}'] = f'={ws.cell(row=total_row + 2, column=5).coordinate}*0.1' # 10% tax\n",
        "ws[f'D{total_row + 4}'] = '税込合計'\n",
        "ws[f'E{total_row + 4}'] = f'={ws.cell(row=total_row + 2, column=5).coordinate}+{ws.cell(row=total_row + 3, column=5).coordinate}'\n",
        "\n",
        "# --- Final Adjustments ---\n",
        "# Set column widths for better readability\n",
        "ws.column_dimensions['B'].width = 15\n",
        "ws.column_dimensions['C'].width = 10\n",
        "ws.column_dimensions['D'].width = 10\n",
        "ws.column_dimensions['E'].width = 15\n",
        "ws.column_dimensions['G'].width = 15\n",
        "\n",
        "# Save the workbook\n",
        "wb.save(\"請求書.xlsx\")\n",
        "print(\"請求書.xlsx が作成されました。\")"
      ],
      "metadata": {
        "colab": {
          "base_uri": "https://localhost:8080/"
        },
        "id": "vsCjpQztr_i1",
        "outputId": "38c4828e-7b94-4b99-99d0-900997a78921"
      },
      "execution_count": 3,
      "outputs": [
        {
          "output_type": "stream",
          "name": "stdout",
          "text": [
            "請求書.xlsx が作成されました。\n"
          ]
        }
      ]
    }
  ]
}